{
  "nbformat": 4,
  "nbformat_minor": 0,
  "metadata": {
    "accelerator": "GPU",
    "colab": {
      "name": "No_Att_Speech_Recog.ipynb",
      "provenance": [],
      "collapsed_sections": []
    },
    "kernelspec": {
      "display_name": "Python 3",
      "language": "python",
      "name": "python3"
    },
    "language_info": {
      "codemirror_mode": {
        "name": "ipython",
        "version": 3
      },
      "file_extension": ".py",
      "mimetype": "text/x-python",
      "name": "python",
      "nbconvert_exporter": "python",
      "pygments_lexer": "ipython3",
      "version": "3.6.9"
    }
  },
  "cells": [
    {
      "cell_type": "markdown",
      "metadata": {
        "id": "hTrNWNHLyaqF"
      },
      "source": [
        "# Speech Command Recognition \n",
        "\n",
        "This notebook presents an attention model for speech command recognotion. We use Google Speech Commands Dataset to test the Keras generator for sound files and the proposed RNN attention model.\n",
        "\n",
        "\n",
        "## Download files and load information\n",
        "\n",
        "Dynamically load speech data from the disk to allow handling big datasets.\n",
        "\n",
        "First step: download Google Speech Command Dataset and convert all WAV files to numpy arrays for faster load (about 10x faster than loading raw WAV)."
      ]
    },
    {
      "cell_type": "code",
      "metadata": {
        "id": "GieC2ZgNycMI"
      },
      "source": [
        "# Colab settings\n",
        "%tensorflow_version 2.x\n",
        "!wget -q https://raw.githubusercontent.com/douglas125/SpeechCmdRecognition/master/SpeechDownloader.py\n",
        "!wget -q https://raw.githubusercontent.com/douglas125/SpeechCmdRecognition/master/SpeechGenerator.py\n",
        "!wget -q https://raw.githubusercontent.com/douglas125/SpeechCmdRecognition/master/audioUtils.py\n",
        "!wget -q https://raw.githubusercontent.com/readmees/SpeechCmdRecognition/master/SpeechModels.py\n",
        "!wget -q https://raw.githubusercontent.com/douglas125/SpeechCmdRecognition/master/requirements.txt\n",
        "!pip install -r requirements.txt"
      ],
      "execution_count": null,
      "outputs": []
    },
    {
      "cell_type": "code",
      "metadata": {
        "id": "YTD7DrNlkhA0"
      },
      "source": [
        "import tensorflow as tf\n",
        "from tensorflow.python.client import device_lib\n",
        "print(device_lib.list_local_devices())"
      ],
      "execution_count": null,
      "outputs": []
    },
    {
      "cell_type": "code",
      "metadata": {
        "id": "8zJv_ttsyaqJ"
      },
      "source": [
        "#%load_ext autoreload\n",
        "#%autoreload 2\n",
        "\n",
        "import librosa\n",
        "import matplotlib\n",
        "import numpy as np\n",
        "import matplotlib.pyplot as plt\n",
        "%matplotlib inline  \n",
        "\n",
        "import SpeechDownloader\n",
        "import SpeechGenerator\n",
        "import SpeechModels"
      ],
      "execution_count": null,
      "outputs": []
    },
    {
      "cell_type": "code",
      "metadata": {
        "id": "a_sCoxN1yaqQ"
      },
      "source": [
        "# Download and prepare all data\n",
        "gscInfo, nCategs = SpeechDownloader.PrepareGoogleSpeechCmd(version=2, task='35word')"
      ],
      "execution_count": null,
      "outputs": []
    },
    {
      "cell_type": "markdown",
      "metadata": {
        "id": "tzE5hypbyaqV"
      },
      "source": [
        "We should have 4 datasets, each with file names 'files' and their categories 'labels' in a dict."
      ]
    },
    {
      "cell_type": "code",
      "metadata": {
        "id": "U6g2xDpVyaqW"
      },
      "source": [
        "print(gscInfo.keys())\n",
        "print(gscInfo['train'].keys())\n",
        "print(len(gscInfo['train']['files']))\n",
        "print(nCategs)"
      ],
      "execution_count": null,
      "outputs": []
    },
    {
      "cell_type": "markdown",
      "metadata": {
        "id": "kr5bibxhyaqa"
      },
      "source": [
        "# Speech Data Generator\n",
        "\n",
        "Use Keras to create a generator that reads files on the fly."
      ]
    },
    {
      "cell_type": "code",
      "metadata": {
        "id": "AXGWLGsGyaqc"
      },
      "source": [
        "sr = 16000 #we know this one for google audios\n",
        "iLen = 16000\n",
        "trainGen = SpeechGenerator.SpeechGen(gscInfo['train']['files'], gscInfo['train']['labels'], shuffle=True)\n",
        "# handle the fact that number of samples in validation may not be multiple of batch_size with shuffle=True\n",
        "valGen   = SpeechGenerator.SpeechGen(gscInfo['val']['files'], gscInfo['val']['labels'], shuffle=True)\n",
        "\n",
        "# use batch_size = total number of files to read all test files at once\n",
        "testGen  = SpeechGenerator.SpeechGen(gscInfo['test']['files'], gscInfo['test']['labels'], shuffle=False, batch_size=len(gscInfo['test']['files']))\n",
        "testRGen = SpeechGenerator.SpeechGen(gscInfo['testREAL']['files'], gscInfo['testREAL']['labels'], shuffle=False, batch_size=len(gscInfo['testREAL']['files']))\n",
        "valGen.__len__()"
      ],
      "execution_count": null,
      "outputs": []
    },
    {
      "cell_type": "code",
      "metadata": {
        "id": "Q5bNHwXgyaqh"
      },
      "source": [
        "audios, classes = valGen.__getitem__(5)\n",
        "classes"
      ],
      "execution_count": null,
      "outputs": []
    },
    {
      "cell_type": "code",
      "metadata": {
        "id": "0WUYY8akyaql"
      },
      "source": [
        "# librosa.output.write_wav('file.wav', audios[4], sr, norm=False)\n",
        "plt.plot(audios[4])"
      ],
      "execution_count": null,
      "outputs": []
    },
    {
      "cell_type": "code",
      "metadata": {
        "id": "1jz56x1Jyaqp"
      },
      "source": [
        "from tensorflow.keras.models import Sequential\n",
        "from kapre.time_frequency import Melspectrogram, Spectrogram\n",
        "from kapre.utils import Normalization2D\n",
        "\n",
        "melspecModel = Sequential()\n",
        "\n",
        "melspecModel.add(Melspectrogram(n_dft=1024, n_hop=128, input_shape=(1, iLen),\n",
        "                         padding='same', sr=sr, n_mels=80,\n",
        "                         fmin=40.0, fmax=sr/2, power_melgram=1.0,\n",
        "                         return_decibel_melgram=True, trainable_fb=False,\n",
        "                         trainable_kernel=False,\n",
        "                         name='mel_stft') )\n",
        "\n",
        "melspecModel.add(Normalization2D(int_axis=0))\n",
        "\n",
        "melspecModel.summary()"
      ],
      "execution_count": null,
      "outputs": []
    },
    {
      "cell_type": "code",
      "metadata": {
        "id": "EdDdxD-Cyaqt"
      },
      "source": [
        "melspec = melspecModel.predict( audios.reshape((-1,1,iLen)) )\n",
        "melspec.shape"
      ],
      "execution_count": null,
      "outputs": []
    },
    {
      "cell_type": "code",
      "metadata": {
        "id": "sg0mFYbEyaq0"
      },
      "source": [
        "plt.figure(figsize=(17,6))\n",
        "plt.pcolormesh(melspec[9,:,:,0])\n",
        "\n",
        "plt.title('Spectrogram visualization')\n",
        "plt.ylabel('Frequency')\n",
        "plt.xlabel('Time')\n",
        "\n",
        "plt.show()"
      ],
      "execution_count": null,
      "outputs": []
    },
    {
      "cell_type": "code",
      "metadata": {
        "id": "enQjuF4Cmdch"
      },
      "source": [
        "# Check if mel spectrogram matches the one computed with librosa\n",
        "librosa_melspec = librosa.feature.melspectrogram(y=audios[9], sr=sr, n_fft=1024,\n",
        "                                                 hop_length=128, power=1.0, #window='hann',\n",
        "                                                 n_mels=80, fmin=40.0, fmax=sr/2)\n",
        "S_dB = librosa.power_to_db(librosa_melspec, ref=np.max)"
      ],
      "execution_count": null,
      "outputs": []
    },
    {
      "cell_type": "code",
      "metadata": {
        "id": "rtpQV8NIvGFZ"
      },
      "source": [
        "plt.figure(figsize=(17,6))\n",
        "plt.pcolormesh(S_dB)\n",
        "\n",
        "plt.title('Spectrogram visualization - librosa')\n",
        "plt.ylabel('Frequency')\n",
        "plt.xlabel('Time')\n",
        "\n",
        "plt.show()"
      ],
      "execution_count": null,
      "outputs": []
    },
    {
      "cell_type": "code",
      "metadata": {
        "id": "rcTD11oykhF4"
      },
      "source": [
        "# plt.hist(melspec.flatten(), bins=100)"
      ],
      "execution_count": null,
      "outputs": []
    },
    {
      "cell_type": "markdown",
      "metadata": {
        "id": "suRQj5Dayaq5"
      },
      "source": [
        "# Models\n",
        "\n",
        "Create Keras models to see if the generators are working properly"
      ]
    },
    {
      "cell_type": "code",
      "metadata": {
        "id": "bArepYbcyaq7"
      },
      "source": [
        "from tensorflow.keras.models import Model, load_model\n",
        "\n",
        "from kapre.time_frequency import Melspectrogram, Spectrogram"
      ],
      "execution_count": null,
      "outputs": []
    },
    {
      "cell_type": "code",
      "metadata": {
        "id": "eJIjgckXyarF"
      },
      "source": [
        "#self-attention LSTM\n",
        "#nCategs=36\n",
        "#sr=16000\n",
        "#iLen=16000\n",
        "#from keras import layers as L\n",
        "\n",
        "# NO ATTENTION \n",
        "model = SpeechModels.RNNSpeechModel(nCategs, samplingrate = sr, inputLength = None)#, rnn_func=L.LSTM)\n",
        "\n",
        "model.compile(optimizer='adam', loss=['sparse_categorical_crossentropy'], metrics=['sparse_categorical_accuracy'])\n",
        "model.summary()"
      ],
      "execution_count": null,
      "outputs": []
    },
    {
      "cell_type": "code",
      "metadata": {
        "id": "mcqCM_YOkhGr"
      },
      "source": [
        "# model.load_weights('model-attRNN.h5')"
      ],
      "execution_count": null,
      "outputs": []
    },
    {
      "cell_type": "code",
      "metadata": {
        "id": "uH8Aa4-gyarI"
      },
      "source": [
        "import math\n",
        "from tensorflow.keras.callbacks import EarlyStopping, ModelCheckpoint, LearningRateScheduler\n",
        "def step_decay(epoch):\n",
        "    initial_lrate = 0.001\n",
        "    drop = 0.4\n",
        "    epochs_drop = 15.0\n",
        "    lrate = initial_lrate * math.pow(drop,  \n",
        "            math.floor((1+epoch)/epochs_drop))\n",
        "    \n",
        "    if (lrate < 4e-5):\n",
        "        lrate = 4e-5\n",
        "      \n",
        "    print('Changing learning rate to {}'.format(lrate))\n",
        "    return lrate\n",
        "lrate = LearningRateScheduler(step_decay)"
      ],
      "execution_count": null,
      "outputs": []
    },
    {
      "cell_type": "code",
      "metadata": {
        "id": "P4XKh-NdyarK",
        "scrolled": true,
        "collapsed": true
      },
      "source": [
        "earlystopper = EarlyStopping(monitor='val_sparse_categorical_accuracy', patience=10,\n",
        "                             verbose=1, restore_best_weights=True)\n",
        "checkpointer = ModelCheckpoint('model-RNN.h5', monitor='val_sparse_categorical_accuracy', verbose=1, save_best_only=True)\n",
        "\n",
        "results = model.fit(trainGen, validation_data=valGen, epochs=60, use_multiprocessing=False, workers=4, verbose=2,\n",
        "                    callbacks=[earlystopper, checkpointer, lrate])\n",
        "\n",
        "model.save('model-RNN.h5')"
      ],
      "execution_count": null,
      "outputs": []
    },
    {
      "cell_type": "code",
      "metadata": {
        "id": "KGaItJhiyarN"
      },
      "source": [
        "# summarize history for categorical accuracy\n",
        "plt.plot(results.history['sparse_categorical_accuracy'])\n",
        "plt.plot(results.history['val_sparse_categorical_accuracy'])\n",
        "plt.title('Categorical accuracy')\n",
        "plt.ylabel('accuracy')\n",
        "plt.xlabel('epoch')\n",
        "plt.legend(['train', 'test'], loc='upper left')\n",
        "plt.show()\n",
        "# summarize history for loss\n",
        "plt.plot(results.history['loss'])\n",
        "plt.plot(results.history['val_loss'])\n",
        "plt.title('model loss')\n",
        "plt.ylabel('loss')\n",
        "plt.xlabel('epoch')\n",
        "plt.legend(['train', 'test'], loc='upper left')\n",
        "plt.show()"
      ],
      "execution_count": null,
      "outputs": []
    },
    {
      "cell_type": "code",
      "metadata": {
        "id": "RNUCmbUjkhIW",
        "scrolled": true
      },
      "source": [
        "# results.history"
      ],
      "execution_count": null,
      "outputs": []
    },
    {
      "cell_type": "code",
      "metadata": {
        "id": "0Fgie8ZwyarQ"
      },
      "source": [
        "# load best model according to cross-validation - model-attRNN\n",
        "# model = load_model('model-attRNN.h5', custom_objects={'Melspectrogram': Melspectrogram, 'Normalization2D': Normalization2D })\n",
        "model.load_weights('model-RNN.h5')"
      ],
      "execution_count": null,
      "outputs": []
    },
    {
      "cell_type": "code",
      "metadata": {
        "id": "PlT2988zkhIg",
        "scrolled": true
      },
      "source": [
        "#read all test data\n",
        "x_test, y_test = testGen.__getitem__(0)"
      ],
      "execution_count": null,
      "outputs": []
    },
    {
      "cell_type": "code",
      "metadata": {
        "id": "O_R8ga27yarS"
      },
      "source": [
        "valEval = model.evaluate(valGen, use_multiprocessing=False, workers=4,verbose=0)\n",
        "trainEval = model.evaluate(trainGen, use_multiprocessing=False, workers=4,verbose=0)\n",
        "testEval = model.evaluate(x_test, y_test, verbose=0)\n",
        "print('Evaluation scores: \\nMetrics: {} \\nTrain: {} \\nValidation: {} \\nTest: {}'.format(model.metrics_names, trainEval, valEval, testEval) )"
      ],
      "execution_count": null,
      "outputs": []
    },
    {
      "cell_type": "code",
      "metadata": {
        "id": "aaM300dkyarV"
      },
      "source": [
        "kaggle12cmd = False\n",
        "if kaggle12cmd:\n",
        "    #only for the Kaggle competition, 12-cmd\n",
        "    x_testR, y_testR = testRGen.__getitem__(0)\n",
        "    testREval = model.evaluate(x_testR, y_testR, verbose=1)\n",
        "    print(testREval)\n",
        "    testREval = model.evaluate(testRGen, use_multiprocessing=True, workers=4,verbose=1)\n",
        "    print(testREval)"
      ],
      "execution_count": null,
      "outputs": []
    },
    {
      "cell_type": "markdown",
      "metadata": {
        "id": "kbYaUxhfaH92"
      },
      "source": [
        "## Evaluation and Attention Plots"
      ]
    },
    {
      "cell_type": "code",
      "metadata": {
        "id": "YaqNVpXjkhJA"
      },
      "source": [
        "# attSpeechModel = Model(inputs=model.input,\n",
        "#                                  outputs=[model.get_layer('output').output, \n",
        "#                                           model.get_layer('attSoftmax').output,\n",
        "#                                           model.get_layer('mel_stft').output])\n"
      ],
      "execution_count": null,
      "outputs": []
    },
    {
      "cell_type": "code",
      "metadata": {
        "id": "Nvdo2FiJkhJz"
      },
      "source": [
        "y_pred = model.predict(x_test, verbose=1)"
      ],
      "execution_count": null,
      "outputs": []
    },
    {
      "cell_type": "code",
      "metadata": {
        "id": "jAPOwlxUkhJ5"
      },
      "source": [
        "from sklearn.metrics import confusion_matrix\n",
        "import audioUtils\n",
        "cm = confusion_matrix(y_test, np.argmax(y_pred,1))"
      ],
      "execution_count": null,
      "outputs": []
    },
    {
      "cell_type": "code",
      "metadata": {
        "id": "_CJnhiCbkhJ6"
      },
      "source": [
        "#set(y_test)"
      ],
      "execution_count": null,
      "outputs": []
    },
    {
      "cell_type": "code",
      "metadata": {
        "id": "Qzp7RWnQkhKA"
      },
      "source": [
        "#35word, v2\n",
        "classes = ['nine', 'yes', 'no', 'up', 'down', 'left', 'right', 'on', 'off', 'stop', 'go',\n",
        "           'zero', 'one', 'two', 'three', 'four', 'five', 'six', \n",
        "           'seven',  'eight', 'backward', 'bed', 'bird', 'cat', 'dog',\n",
        "           'follow', 'forward', 'happy', 'house', 'learn', 'marvin', 'sheila', 'tree',\n",
        "           'visual', 'wow']"
      ],
      "execution_count": null,
      "outputs": []
    },
    {
      "cell_type": "code",
      "metadata": {
        "id": "k3Pq8U-EkhKS"
      },
      "source": [
        "#35word, v1\n",
        "#classes=['nine', 'yes',  'no', 'up', 'down', 'left', 'right', 'on', 'off', 'stop', 'go',\n",
        "#         'zero', 'one', 'two', 'three', 'four', 'five', 'six', 'seven',  'eight', \n",
        "#         'bed', 'bird', 'cat', 'dog', 'happy', 'house', \n",
        "#         'marvin', 'sheila', 'tree', 'wow']"
      ],
      "execution_count": null,
      "outputs": []
    },
    {
      "cell_type": "code",
      "metadata": {
        "id": "aJkO4oBGkhKr"
      },
      "source": [
        "#20cmd\n",
        "#classes=['unknown', 'nine', 'yes',  'no', 'up', 'down', 'left', 'right', 'on', 'off', 'stop', 'go',\n",
        "#         'zero', 'one', 'two', 'three', 'four', 'five', 'six', 'seven',  'eight']"
      ],
      "execution_count": null,
      "outputs": []
    },
    {
      "cell_type": "code",
      "metadata": {
        "id": "wL1IIdLrkhK2",
        "scrolled": false
      },
      "source": [
        "audioUtils.plot_confusion_matrix(cm, classes, normalize=False)"
      ],
      "execution_count": null,
      "outputs": []
    },
    {
      "cell_type": "code",
      "metadata": {
        "id": "JeZEuX3kkhK6"
      },
      "source": [
        ""
      ],
      "execution_count": null,
      "outputs": []
    },
    {
      "cell_type": "code",
      "metadata": {
        "id": "eryXTX2JkhLD"
      },
      "source": [
        "import pandas as pd\n",
        "import kapre\n",
        "[tf.__version__, kapre.__version__, pd.__version__, librosa.__version__]"
      ],
      "execution_count": null,
      "outputs": []
    },
    {
      "cell_type": "markdown",
      "metadata": {
        "id": "YGsYylzrq9P5"
      },
      "source": [
        "# Save model to .pb"
      ]
    },
    {
      "cell_type": "code",
      "metadata": {
        "id": "U9VW5H6-q_B2"
      },
      "source": [
        "#model = SpeechModels.AttRNNSpeechModel(nCategs, samplingrate = sr, inputLength = None)#, rnn_func=L.LSTM)\n",
        "#model.load_weights('model-attRNN.h5')\n",
        "\n",
        "model = load_model('model-RNN.h5', custom_objects={'Melspectrogram': Melspectrogram, 'Normalization2D': Normalization2D })"
      ],
      "execution_count": null,
      "outputs": []
    },
    {
      "cell_type": "code",
      "metadata": {
        "id": "6ZWksVr19aw0"
      },
      "source": [
        "tf.saved_model.save(model, \"RNNModel/1/\")"
      ],
      "execution_count": null,
      "outputs": []
    },
    {
      "cell_type": "code",
      "metadata": {
        "id": "nIdh8awi9lCZ"
      },
      "source": [
        "import os\n",
        "os.listdir('RNNModel/1/')"
      ],
      "execution_count": null,
      "outputs": []
    },
    {
      "cell_type": "code",
      "metadata": {
        "id": "qugNcQEy_wxE"
      },
      "source": [
        ""
      ],
      "execution_count": null,
      "outputs": []
    },
    {
      "cell_type": "code",
      "metadata": {
        "id": "usyHqPsB_wzn"
      },
      "source": [
        "# if using tensorflow 1.x"
      ],
      "execution_count": null,
      "outputs": []
    },
    {
      "cell_type": "code",
      "metadata": {
        "id": "vxERVS0LrCpF"
      },
      "source": [
        "# save model to pb ====================\n",
        "def freeze_session(session, keep_var_names=None, output_names=None, clear_devices=True):\n",
        "    \"\"\"\n",
        "    Freezes the state of a session into a pruned computation graph.\n",
        "    Creates a new computation graph where variable nodes are replaced by\n",
        "    constants taking their current value in the session. The new graph will be\n",
        "    pruned so subgraphs that are not necessary to compute the requested\n",
        "    outputs are removed.\n",
        "    @param session The TensorFlow session to be frozen.\n",
        "    @param keep_var_names A list of variable names that should not be frozen,\n",
        "                          or None to freeze all the variables in the graph.\n",
        "    @param output_names Names of the relevant graph outputs.\n",
        "    @param clear_devices Remove the device directives from the graph for better portability.\n",
        "    @return The frozen graph definition.\n",
        "    \"\"\"\n",
        "    from tensorflow.python.framework.graph_util import convert_variables_to_constants\n",
        "    graph = session.graph\n",
        "    with graph.as_default():\n",
        "        freeze_var_names = list(set(v.op.name for v in tf.global_variables()).difference(keep_var_names or []))\n",
        "        output_names = output_names or []\n",
        "        output_names += [v.op.name for v in tf.global_variables()]\n",
        "        input_graph_def = graph.as_graph_def()\n",
        "        if clear_devices:\n",
        "            for node in input_graph_def.node:\n",
        "                node.device = \"\"\n",
        "        frozen_graph = convert_variables_to_constants(session, input_graph_def,\n",
        "                                                      output_names, freeze_var_names)\n",
        "        return frozen_graph\n",
        "\n"
      ],
      "execution_count": null,
      "outputs": []
    },
    {
      "cell_type": "code",
      "metadata": {
        "id": "eyoD5JgU9Zzf"
      },
      "source": [
        ""
      ],
      "execution_count": null,
      "outputs": []
    },
    {
      "cell_type": "code",
      "metadata": {
        "id": "TYZqN9MjrQm0"
      },
      "source": [
        "wkdir = ''\n",
        "pb_filename = 'RNN.pb'\n",
        "\n",
        "# save keras model as tf pb files ===============\n",
        "sess = tf.compat.v1.keras.backend.get_session()\n",
        "\n",
        "#frozen_graph = freeze_session(sess,\n",
        "#                              output_names=[out.op.name for out in model.outputs])\n",
        "#tf.train.write_graph(frozen_graph, wkdir, pb_filename, as_text=False)"
      ],
      "execution_count": null,
      "outputs": []
    },
    {
      "cell_type": "code",
      "metadata": {
        "id": "28YtNROt8hjF"
      },
      "source": [
        ""
      ],
      "execution_count": null,
      "outputs": []
    }
  ]
}